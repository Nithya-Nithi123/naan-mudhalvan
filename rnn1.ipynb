{
 "cells": [
  {
   "cell_type": "code",
   "execution_count": 1,
   "id": "47457705-d48a-4b27-9853-5098091a722d",
   "metadata": {},
   "outputs": [
    {
     "name": "stdout",
     "output_type": "stream",
     "text": [
      "Downloading data from https://storage.googleapis.com/tensorflow/tf-keras-datasets/imdb.npz\n",
      "\u001b[1m17464789/17464789\u001b[0m \u001b[32m━━━━━━━━━━━━━━━━━━━━\u001b[0m\u001b[37m\u001b[0m \u001b[1m5s\u001b[0m 0us/step\n"
     ]
    },
    {
     "name": "stderr",
     "output_type": "stream",
     "text": [
      "C:\\Users\\ekkai\\anaconda3\\Lib\\site-packages\\keras\\src\\layers\\core\\embedding.py:90: UserWarning: Argument `input_length` is deprecated. Just remove it.\n",
      "  warnings.warn(\n"
     ]
    },
    {
     "name": "stdout",
     "output_type": "stream",
     "text": [
      "Epoch 1/5\n",
      "\u001b[1m196/196\u001b[0m \u001b[32m━━━━━━━━━━━━━━━━━━━━\u001b[0m\u001b[37m\u001b[0m \u001b[1m52s\u001b[0m 252ms/step - accuracy: 0.4946 - loss: 0.6935 - val_accuracy: 0.4933 - val_loss: 0.6934\n",
      "Epoch 2/5\n",
      "\u001b[1m196/196\u001b[0m \u001b[32m━━━━━━━━━━━━━━━━━━━━\u001b[0m\u001b[37m\u001b[0m \u001b[1m50s\u001b[0m 257ms/step - accuracy: 0.5029 - loss: 0.6932 - val_accuracy: 0.5054 - val_loss: 0.6931\n",
      "Epoch 3/5\n",
      "\u001b[1m196/196\u001b[0m \u001b[32m━━━━━━━━━━━━━━━━━━━━\u001b[0m\u001b[37m\u001b[0m \u001b[1m49s\u001b[0m 252ms/step - accuracy: 0.5179 - loss: 0.6926 - val_accuracy: 0.5124 - val_loss: 0.6928\n",
      "Epoch 4/5\n",
      "\u001b[1m196/196\u001b[0m \u001b[32m━━━━━━━━━━━━━━━━━━━━\u001b[0m\u001b[37m\u001b[0m \u001b[1m50s\u001b[0m 257ms/step - accuracy: 0.5228 - loss: 0.6924 - val_accuracy: 0.5192 - val_loss: 0.6925\n",
      "Epoch 5/5\n",
      "\u001b[1m196/196\u001b[0m \u001b[32m━━━━━━━━━━━━━━━━━━━━\u001b[0m\u001b[37m\u001b[0m \u001b[1m48s\u001b[0m 243ms/step - accuracy: 0.5373 - loss: 0.6918 - val_accuracy: 0.5234 - val_loss: 0.6923\n",
      "Test loss: 0.6922677159309387\n",
      "Test accuracy: 0.523360013961792\n",
      "\u001b[1m1/1\u001b[0m \u001b[32m━━━━━━━━━━━━━━━━━━━━\u001b[0m\u001b[37m\u001b[0m \u001b[1m0s\u001b[0m 206ms/step\n",
      "Prediction: Positive\n"
     ]
    }
   ],
   "source": [
    "import numpy as np\n",
    "from tensorflow.keras.datasets import imdb\n",
    "from tensorflow.keras.models import Sequential\n",
    "from tensorflow.keras.layers import Embedding, SimpleRNN, Dense\n",
    "from tensorflow.keras.preprocessing.sequence import pad_sequences\n",
    "from tensorflow.keras.optimizers import SGD\n",
    "\n",
    "# Load IMDb dataset\n",
    "# We only use the top 5000 most frequent words to keep the vocabulary size manageable\n",
    "max_features = 5000\n",
    "(X_train, y_train), (X_valid, y_valid) = imdb.load_data(num_words=max_features)\n",
    "\n",
    "# Pad sequences to ensure uniform length for input\n",
    "maxlen = 200  # Maximum length of input sequences\n",
    "X_train = pad_sequences(X_train, maxlen=maxlen)\n",
    "X_valid = pad_sequences(X_valid, maxlen=maxlen)\n",
    "\n",
    "# Build the RNN model\n",
    "model = Sequential([\n",
    "    Embedding(input_dim=max_features, output_dim=128, input_length=maxlen),\n",
    "    SimpleRNN(128, activation='relu'),\n",
    "    Dense(1, activation='sigmoid')  # Sigmoid for binary classification (positive/negative)\n",
    "])\n",
    "\n",
    "# Compile the model\n",
    "model.compile(loss='binary_crossentropy', optimizer=SGD(learning_rate=0.01), metrics=['accuracy'])\n",
    "\n",
    "# Train the model\n",
    "history = model.fit(X_train, y_train, batch_size=128, epochs=5, validation_data=(X_valid, y_valid))\n",
    "\n",
    "# Evaluate the model\n",
    "score = model.evaluate(X_valid, y_valid, verbose=0)\n",
    "print(f\"Test loss: {score[0]}\")\n",
    "print(f\"Test accuracy: {score[1]}\")\n",
    "\n",
    "# Example prediction\n",
    "sample_review = [\"This movie was amazing! The acting was superb and the story was touching.\"]\n",
    "# Convert the review to integer tokens (same as how data was preprocessed)\n",
    "from tensorflow.keras.preprocessing.text import Tokenizer\n",
    "tokenizer = Tokenizer(num_words=max_features)\n",
    "tokenizer.fit_on_texts(sample_review)\n",
    "sequence = tokenizer.texts_to_sequences(sample_review)\n",
    "padded_sequence = pad_sequences(sequence, maxlen=maxlen)\n",
    "\n",
    "# Predict sentiment (1: positive, 0: negative)\n",
    "prediction = model.predict(padded_sequence)\n",
    "print(f\"Prediction: {'Positive' if prediction[0] > 0.5 else 'Negative'}\")\n"
   ]
  },
  {
   "cell_type": "code",
   "execution_count": null,
   "id": "99d5f535-7f35-42c9-b9ac-b7a195043b38",
   "metadata": {},
   "outputs": [],
   "source": []
  }
 ],
 "metadata": {
  "kernelspec": {
   "display_name": "Python [conda env:base] *",
   "language": "python",
   "name": "conda-base-py"
  },
  "language_info": {
   "codemirror_mode": {
    "name": "ipython",
    "version": 3
   },
   "file_extension": ".py",
   "mimetype": "text/x-python",
   "name": "python",
   "nbconvert_exporter": "python",
   "pygments_lexer": "ipython3",
   "version": "3.12.7"
  }
 },
 "nbformat": 4,
 "nbformat_minor": 5
}
